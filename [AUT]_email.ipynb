{
 "cells": [
  {
   "cell_type": "code",
   "execution_count": 1,
   "metadata": {},
   "outputs": [],
   "source": [
    "import smtplib # Simple Mail Transfer Protocol\n",
    "from email.mime.text import MIMEText # Multipurpose Internet Mail Extensions\n",
    "from email.mime.multipart import MIMEMultipart # Multipurpose Internet Mail Extensions (MIME) for email messages that consist of several parts (text, html, attachments, etc.)\n",
    "from dotenv import load_dotenv # Load environment variables from a .env file into os.environ\n",
    "import os # Miscellaneous operating system interfaces (os.environ) for environment variables"
   ]
  },
  {
   "cell_type": "code",
   "execution_count": null,
   "metadata": {},
   "outputs": [],
   "source": [
    "load_dotenv() # Load environment variables from a .env file into os.environ (dotenv) for security\n",
    "\n",
    "#configuración del email\n",
    "\n",
    "sender_email = \"borjaramosoliva@gmail.com\" # Email del remitente\n",
    "receiver_email = \"cabopalero@outlook.com\" # Email del destinatario\n",
    "subject = \"Prueba de email\" # Asunto del email\n",
    "message = \"Hola, esto es una prueba de email\" # Mensaje del email"
   ]
  },
  {
   "cell_type": "code",
   "execution_count": null,
   "metadata": {},
   "outputs": [],
   "source": [
    "# Crear un objeto multiparte para el mensaje\n",
    "\n",
    "msg = MIMEMultipart() # Multipurpose Internet Mail Extensions (MIME) for email messages that consist of several parts (text, html, attachments, etc.)\n",
    "msg['From'] = sender_email # Email del remitente (sender_email) \n",
    "msg['To'] = receiver_email # Email del destinatario (receiver_email)\n",
    "msg['Subject'] = subject # Asunto del email (subject)"
   ]
  },
  {
   "cell_type": "code",
   "execution_count": null,
   "metadata": {},
   "outputs": [],
   "source": [
    "# Añadir el mensaje al objeto multiparte\n",
    "\n",
    "msg.attach(MIMEText(message, 'plain')) # encadenamos el mensaje al objeto multiparte (msg) con el tipo de contenido (plain) que es texto plano"
   ]
  },
  {
   "cell_type": "code",
   "execution_count": null,
   "metadata": {},
   "outputs": [],
   "source": [
    "# configuración del smtp\n",
    "smtp_server = \"smtp.gmail.com\" # Servidor smtp de gmail\n",
    "smtp_port = 587 # Puerto del servidor smtp de gmail (587) \n",
    "smtp_username = os.getenv(\"smtp_username\") # Usuario del servidor smtp de gmail (smtp_username) guardado en el archivo .env\n",
    "smtp_password = os.getenv(\"smtp_password\") # Contraseña del servidor smtp de gmail (smtp_password) guardado en el archivo .env"
   ]
  },
  {
   "cell_type": "code",
   "execution_count": null,
   "metadata": {},
   "outputs": [],
   "source": [
    "# Creamos una conexión segura con el servidor smtp\n",
    "\n",
    "with smtplib.SMTP(smtp_server, smtp_port) as server: # Conexión con el servidor smtp de gmail (smtp_server) en el puerto (smtp_port)\n",
    "    server.starttls() # Iniciar la conexión con el servidor smtp de gmail (smtp_server) con el protocolo TLS\n",
    "    server.login(smtp_username, smtp_password) # Iniciar sesión en el servidor smtp de gmail (smtp_server) con el usuario (smtp_username) y la contraseña (smtp_password)\n",
    "    server.sendmail(sender_email, receiver_email, msg.as_string()) # Enviamos el email con el remitente (sender_email), el destinatario (receiver_email) y el mensaje (msg) como string\n",
    "    print(\"Email enviado correctamente\") # Mensaje de confirmación de que el email se ha enviado correctamente (nos llegará un email de confirmación)"
   ]
  }
 ],
 "metadata": {
  "kernelspec": {
   "display_name": "lab_env",
   "language": "python",
   "name": "python3"
  },
  "language_info": {
   "codemirror_mode": {
    "name": "ipython",
    "version": 3
   },
   "file_extension": ".py",
   "mimetype": "text/x-python",
   "name": "python",
   "nbconvert_exporter": "python",
   "pygments_lexer": "ipython3",
   "version": "3.9.13"
  }
 },
 "nbformat": 4,
 "nbformat_minor": 2
}
